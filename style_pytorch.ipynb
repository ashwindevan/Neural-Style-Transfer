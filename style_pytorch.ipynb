{
 "cells": [
  {
   "cell_type": "markdown",
   "metadata": {},
   "source": [
    "# Importing Libraries"
   ]
  },
  {
   "cell_type": "code",
   "execution_count": 19,
   "metadata": {},
   "outputs": [],
   "source": [
    "import torch\n",
    "import torchvision.transforms as transforms\n",
    "from PIL import Image\n",
    "import torch.nn as nn\n",
    "import torchvision.models as models\n",
    "import torch.optim as optim\n",
    "from torchvision.utils import save_image\n",
    "import matplotlib.pyplot as plt"
   ]
  },
  {
   "cell_type": "markdown",
   "metadata": {},
   "source": [
    "# Loading the Model"
   ]
  },
  {
   "cell_type": "code",
   "execution_count": 20,
   "metadata": {},
   "outputs": [
    {
     "data": {
      "text/plain": [
       "device(type='cuda')"
      ]
     },
     "execution_count": 20,
     "metadata": {},
     "output_type": "execute_result"
    }
   ],
   "source": [
    "#Loadung the model vgg19 that will serve as the base model\n",
    "model=models.vgg19(pretrained=True).features\n",
    "#Assigning the GPU to the variable device\n",
    "device=torch.device( \"cuda\" if (torch.cuda.is_available()) else 'cpu')\n",
    "device"
   ]
  },
  {
   "cell_type": "markdown",
   "metadata": {},
   "source": [
    "# Image Preprocessing"
   ]
  },
  {
   "cell_type": "code",
   "execution_count": 21,
   "metadata": {},
   "outputs": [],
   "source": [
    "#defing a function that will load the image and perform the required preprocessing and put it on the GPU\n",
    "def image_loader(path):\n",
    "    image=Image.open(path)\n",
    "    #defining the image transformation steps to be performed before feeding them to the model\n",
    "    loader=transforms.Compose([transforms.Resize((512,512)), transforms.ToTensor()])\n",
    "    #The preprocessing steps involves resizing the image and then converting it to a tensor\n",
    "    image=loader(image).unsqueeze(0)\n",
    "    return image.to(device,torch.float)\n",
    "\n",
    "#Loading the original and the style image\n",
    "original_image=image_loader('download.jpeg')\n",
    "style_image=image_loader('content.jpg')\n",
    "\n",
    "#Creating the generated image from the original image\n",
    "generated_image=original_image.clone().requires_grad_(True)"
   ]
  },
  {
   "cell_type": "markdown",
   "metadata": {},
   "source": [
    "# Feature Representations"
   ]
  },
  {
   "cell_type": "code",
   "execution_count": 22,
   "metadata": {},
   "outputs": [],
   "source": [
    "#Defining a class that for the model\n",
    "class VGG(nn.Module):\n",
    "    def __init__(self):\n",
    "        super(VGG,self).__init__()\n",
    "        self.req_features= ['0','5','10','19','28'] \n",
    "        #Since we need only the 5 layers in the model so we will be dropping all the rest layers from the features of the model\n",
    "        self.model=models.vgg19(pretrained=True).features[:29] #model will contain the first 29 layers\n",
    "    \n",
    "   \n",
    "    #x holds the input tensor(image) that will be feeded to each layer\n",
    "    def forward(self,x):\n",
    "        #initialize an array that wil hold the activations from the chosen layers\n",
    "        features=[]\n",
    "        #Iterate over all the layers of the mode\n",
    "        for layer_num,layer in enumerate(self.model):\n",
    "            #activation of the layer will stored in x\n",
    "            x=layer(x)\n",
    "            #appending the activation of the selected layers and return the feature array\n",
    "            if (str(layer_num) in self.req_features):\n",
    "                features.append(x)\n",
    "                \n",
    "        return features"
   ]
  },
  {
   "cell_type": "markdown",
   "metadata": {},
   "source": [
    "# Content Loss"
   ]
  },
  {
   "cell_type": "code",
   "execution_count": 23,
   "metadata": {},
   "outputs": [],
   "source": [
    "def calc_content_loss(gen_feat,orig_feat):\n",
    "    #calculating the content loss of each layer by calculating the MSE between the content and generated features and adding it to content loss\n",
    "    content_l=torch.mean((gen_feat-orig_feat)**2)\n",
    "    return content_l"
   ]
  },
  {
   "cell_type": "markdown",
   "metadata": {},
   "source": [
    "# Style Loss"
   ]
  },
  {
   "cell_type": "code",
   "execution_count": 24,
   "metadata": {},
   "outputs": [],
   "source": [
    "def calc_style_loss(gen,style):\n",
    "    #Calculating the gram matrix for the style and the generated image\n",
    "    batch_size,channel,height,width=gen.shape\n",
    "\n",
    "    G=torch.mm(gen.view(channel,height*width),gen.view(channel,height*width).t())\n",
    "    A=torch.mm(style.view(channel,height*width),style.view(channel,height*width).t())\n",
    "        \n",
    "    #Calcultating the style loss of each layer by calculating the MSE between the gram matrix of the style image and the generated image and adding it to style loss\n",
    "    style_l=torch.mean((G-A)**2)\n",
    "    return style_l"
   ]
  },
  {
   "cell_type": "markdown",
   "metadata": {},
   "source": [
    "# Total Loss"
   ]
  },
  {
   "cell_type": "code",
   "execution_count": 25,
   "metadata": {},
   "outputs": [],
   "source": [
    "def calculate_loss(gen_features, orig_feautes, style_featues):\n",
    "    style_loss=content_loss=0\n",
    "    for gen,cont,style in zip(gen_features,orig_feautes,style_featues):\n",
    "        #extracting the dimensions from the generated image\n",
    "        content_loss+=calc_content_loss(gen,cont)\n",
    "        style_loss+=calc_style_loss(gen,style)\n",
    "    \n",
    "    #calculating the total loss of e th epoch\n",
    "    total_loss=alpha*content_loss + beta*style_loss \n",
    "    return total_loss"
   ]
  },
  {
   "cell_type": "code",
   "execution_count": 26,
   "metadata": {},
   "outputs": [],
   "source": [
    "# Function to convert tensor to image\n",
    "def tensor_to_image(tensor):\n",
    "    image = tensor.clone().detach().cpu()\n",
    "    image = transforms.ToPILImage()(image.squeeze(0))\n",
    "    return image"
   ]
  },
  {
   "cell_type": "markdown",
   "metadata": {},
   "source": [
    "# Training"
   ]
  },
  {
   "cell_type": "code",
   "execution_count": 27,
   "metadata": {},
   "outputs": [
    {
     "name": "stdout",
     "output_type": "stream",
     "text": [
      "Epoch 10/250, Total Loss: 3140463360.0\n",
      "Epoch 20/250, Total Loss: 2316333824.0\n",
      "Epoch 30/250, Total Loss: 1805244032.0\n",
      "Epoch 40/250, Total Loss: 1513151744.0\n",
      "Epoch 50/250, Total Loss: 1325280384.0\n",
      "Epoch 60/250, Total Loss: 1174017792.0\n",
      "Epoch 70/250, Total Loss: 1045424640.0\n",
      "Epoch 80/250, Total Loss: 937219520.0\n",
      "Epoch 90/250, Total Loss: 845201344.0\n",
      "Epoch 100/250, Total Loss: 766020928.0\n",
      "Epoch 110/250, Total Loss: 697420416.0\n",
      "Epoch 120/250, Total Loss: 637348224.0\n",
      "Epoch 130/250, Total Loss: 584014784.0\n",
      "Epoch 140/250, Total Loss: 535985920.0\n",
      "Epoch 150/250, Total Loss: 492142304.0\n",
      "Epoch 160/250, Total Loss: 451610208.0\n",
      "Epoch 170/250, Total Loss: 413779296.0\n",
      "Epoch 180/250, Total Loss: 378271040.0\n",
      "Epoch 190/250, Total Loss: 344849984.0\n",
      "Epoch 200/250, Total Loss: 313443296.0\n",
      "Epoch 210/250, Total Loss: 284046560.0\n",
      "Epoch 220/250, Total Loss: 256705984.0\n",
      "Epoch 230/250, Total Loss: 231467008.0\n",
      "Epoch 240/250, Total Loss: 208393616.0\n",
      "Epoch 250/250, Total Loss: 187524704.0\n"
     ]
    }
   ],
   "source": [
    "#Load the model to the GPU\n",
    "model=VGG().to(device).eval() \n",
    "\n",
    "#initialize the paramerters required for fitting the model\n",
    "epoch=250\n",
    "lr=0.004\n",
    "alpha=8\n",
    "beta=70\n",
    "\n",
    "#using adam optimizer and it will update the generated image not the model parameter \n",
    "optimizer=optim.Adam([generated_image],lr=lr)\n",
    "\n",
    "#iterating for 1000 times\n",
    "for e in range (epoch):\n",
    "    #extracting the features of generated, content and the original required for calculating the loss\n",
    "    gen_features=model(generated_image)\n",
    "    orig_feautes=model(original_image)\n",
    "    style_featues=model(style_image)\n",
    "    \n",
    "    #iterating over the activation of each layer and calculate the loss and add it to the content and the style loss\n",
    "    total_loss=calculate_loss(gen_features, orig_feautes, style_featues)\n",
    "    #optimize the pixel values of the generated image and backpropagate the loss\n",
    "    optimizer.zero_grad()\n",
    "    total_loss.backward()\n",
    "    optimizer.step()\n",
    "    #print the image and save it after each 100 epoch\n",
    "    if (e + 1) % 10 == 0:\n",
    "        print(f'Epoch {e + 1}/{epoch}, Total Loss: {total_loss.item()}')\n",
    "        save_image(generated_image, f\"gen_epoch_{e + 1}.png\")\n",
    "        # Convert the tensor to an image and display it\n",
    "        # img = tensor_to_image(generated_image)\n",
    "        # plt.imshow(img)\n",
    "        # plt.axis('off')  # Turn off axis\n",
    "        # plt.show()\n"
   ]
  },
  {
   "cell_type": "code",
   "execution_count": 28,
   "metadata": {},
   "outputs": [],
   "source": [
    "save_image(generated_image, \"final_generated_image2.png\")"
   ]
  }
 ],
 "metadata": {
  "kernelspec": {
   "display_name": "Python 3",
   "language": "python",
   "name": "python3"
  },
  "language_info": {
   "codemirror_mode": {
    "name": "ipython",
    "version": 3
   },
   "file_extension": ".py",
   "mimetype": "text/x-python",
   "name": "python",
   "nbconvert_exporter": "python",
   "pygments_lexer": "ipython3",
   "version": "3.11.4"
  }
 },
 "nbformat": 4,
 "nbformat_minor": 2
}
